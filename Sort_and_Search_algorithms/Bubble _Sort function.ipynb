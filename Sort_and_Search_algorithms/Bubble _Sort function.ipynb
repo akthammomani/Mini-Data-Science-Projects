{
 "cells": [
  {
   "cell_type": "code",
   "execution_count": 1,
   "metadata": {},
   "outputs": [
    {
     "name": "stdout",
     "output_type": "stream",
     "text": [
      "This is unsorted [3, 22, 14, 434, 501, 11, 9, 1230, 304, 123, 5412, 381923, 302, -3, 1]\n",
      "This is sorted [-3, 1, 3, 9, 11, 14, 22, 123, 302, 304, 434, 501, 1230, 5412, 381923]\n",
      "\n",
      "This is unsorted [43, 12, 7, 9, 22, 1, 104]\n",
      "This is sorted [1, 7, 9, 12, 22, 43, 104]\n",
      "\n",
      "This is unsorted [100, 0, 0, -20, 30, -5]\n",
      "This is sorted [-20, -5, 0, 0, 30, 100]\n",
      "\n",
      "This is unsorted [28, 4, 17, 666, 1001, 52, 61, 30]\n",
      "This is sorted [4, 17, 28, 30, 52, 61, 666, 1001]\n"
     ]
    }
   ],
   "source": [
    "\"\"\"\n",
    "Bubble_Sort_Function\n",
    "created on Monday, July 27 2020\n",
    "Author: Aktham Momani\n",
    "Email: aktham.momani81@gmail.com\n",
    "\"\"\"\n",
    "# Bubble _Sort function: idea is swap pairs if First > Second\n",
    "def Bubble_sort(List_of_numbers):\n",
    "    for i in range(len(List_of_numbers)): # Iterating over the # of the elements of the given lists\n",
    "        for j in range(1, len(List_of_numbers) - i): # for J will start iterating from index[1] so we can have access to element at index[0]of the list\n",
    "            if List_of_numbers[j - 1] > List_of_numbers[j]: # This statement is to test if First > Second element\n",
    "                temp = List_of_numbers[j - 1] # temp is basically holding the swaped numnber position, First > Seconds so we swapped first with second \n",
    "                List_of_numbers[j - 1] = List_of_numbers[j] # now first == second (Swapped from First)\n",
    "                List_of_numbers[j] = temp # swap is complete\n",
    "    return List_of_numbers\n",
    "\n",
    "test0 = [3, 22, 14, 434, 501, 11, 9, 1230, 304, 123, 5412, 381923, 302, -3, 1]\n",
    "test1 = [43, 12, 7, 9, 22, 1, 104]\n",
    "test2 = [100, 0, 0, -20, 30, -5]\n",
    "test3  = [28, 4, 17, 666, 1001, 52, 61, 30]\n",
    "\n",
    "print('This is unsorted', test0)\n",
    "print('This is sorted', Bubble_sort(test0))\n",
    "print()\n",
    "print('This is unsorted', test1)\n",
    "print('This is sorted', Bubble_sort(test1))\n",
    "print()\n",
    "print('This is unsorted', test2)\n",
    "print('This is sorted', Bubble_sort(test2))\n",
    "print()\n",
    "print('This is unsorted', test3)\n",
    "print('This is sorted', Bubble_sort(test3))"
   ]
  },
  {
   "cell_type": "code",
   "execution_count": null,
   "metadata": {},
   "outputs": [],
   "source": []
  }
 ],
 "metadata": {
  "kernelspec": {
   "display_name": "Python 3",
   "language": "python",
   "name": "python3"
  },
  "language_info": {
   "codemirror_mode": {
    "name": "ipython",
    "version": 3
   },
   "file_extension": ".py",
   "mimetype": "text/x-python",
   "name": "python",
   "nbconvert_exporter": "python",
   "pygments_lexer": "ipython3",
   "version": "3.7.6"
  }
 },
 "nbformat": 4,
 "nbformat_minor": 4
}
