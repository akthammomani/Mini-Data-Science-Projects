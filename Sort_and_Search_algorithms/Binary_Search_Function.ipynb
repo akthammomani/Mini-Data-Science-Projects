{
 "cells": [
  {
   "cell_type": "code",
   "execution_count": 2,
   "metadata": {},
   "outputs": [
    {
     "name": "stderr",
     "output_type": "stream",
     "text": [
      "UsageError: Line magic function `%%time` not found.\n"
     ]
    }
   ],
   "source": [
    "\"\"\"\n",
    "Binary_Search_Function\n",
    "Created on Monday, July 27 2020\n",
    "Author: Aktham Momani\n",
    "Email: aktham.momani81@gmail.com\n",
    "\n",
    "Binary_Search Characteristics:\n",
    "1) Find the median of the list and compare against the query_item:\n",
    "   query_item ==  Median \n",
    "   True\n",
    "       Break\n",
    "   False \n",
    "       Continue \n",
    "2) Check if query_item > Median :\n",
    "   True\n",
    "       Elimninate the lower half of the given list \n",
    "   False\n",
    "       Elimninate the upper half of the given list \n",
    "\n",
    "3) repeate step no.1 on the reminaing half.\n",
    "\n",
    "The result will be True or False\n",
    "\"\"\"\n",
    "\n",
    "def Binary_Search(List_of_numbers, Query_item): # Def Binary_search taking 2 arguments: 1) given list 2) Query_item\n",
    "    index_first = 0 # Set 1st index to 0 \n",
    "    index_last = len(List_of_numbers) - 1 # Set last index\n",
    "    found_number = False  # let's assume at first that Found_number is not False\n",
    "    \n",
    "    while index_first <= index_last and not found_number: # Check if index_first is less or equal to index_last\n",
    "        middle_index = (index_first + index_last) // 2    # Using index_first & index_last to find middle_index please note \"//\" integer division!!!\n",
    "        if Query_item == List_of_numbers[middle_index]:   # Query_item == middle_Item\n",
    "            found_number = True\n",
    "            break # Break the while loop if Query_item is found\n",
    "        else:\n",
    "            if Query_item < List_of_numbers[middle_index]:\n",
    "                index_last = middle_index - 1\n",
    "            else:\n",
    "                index_first = middle_index + 1\n",
    "    return found_number\n",
    "\n",
    "test0 = [3, 22, 14, 434, 501, 11, 9, 1230, 304, 123, 5412, 381923, 302, -3, 1]\n",
    "searchItem0 = 13\n",
    "  \n",
    "test1 = [1, 7, 9, 12, 22, 43, 104]\n",
    "searchItem1 = 9\n",
    "  \n",
    "test2 = [-20, -5, 0, 0, 30, 100]\n",
    "searchItem2 = 31\n",
    "  \n",
    "test3 = [4, 17, 28, 30, 52, 61, 666, 1001]\n",
    "searchItem3 = 666\n",
    "\n",
    "print(Binary_Search(test0, searchItem0))\n",
    "\n",
    "print(Binary_Search(test1, searchItem1))\n",
    "\n",
    "print(Binary_Search(test2, searchItem2))\n",
    "\n",
    "print(Binary_Search(test3, searchItem3))\n"
   ]
  },
  {
   "cell_type": "code",
   "execution_count": null,
   "metadata": {},
   "outputs": [],
   "source": []
  }
 ],
 "metadata": {
  "kernelspec": {
   "display_name": "Python 3",
   "language": "python",
   "name": "python3"
  },
  "language_info": {
   "codemirror_mode": {
    "name": "ipython",
    "version": 3
   },
   "file_extension": ".py",
   "mimetype": "text/x-python",
   "name": "python",
   "nbconvert_exporter": "python",
   "pygments_lexer": "ipython3",
   "version": "3.7.6"
  }
 },
 "nbformat": 4,
 "nbformat_minor": 4
}
