{
 "cells": [
  {
   "cell_type": "code",
   "execution_count": null,
   "metadata": {},
   "outputs": [],
   "source": [
    "\"\"\"\n",
    "Insertion_Sort Function\n",
    "created on Monday, July 27 2020\n",
    "Author: Aktham Momani\n",
    "Email: aktham.momani81@gmail.com\n",
    "\"\"\"\n",
    "# Insertion_Sort funtion: Main Ideas:\n",
    "# 1) Always start from Index[1]\n",
    "# 2) Always compare current element to all left elements.\n",
    "\n",
    "def Insertion_sort(List_of_numbers):\n",
    "    for position in range(len(List_of_numbers)): # Iterating over the # of the elements of the given lists\n",
    "        current_element = List_of_numbers[position] # To Access Current element\n",
    "\n",
    "        while position > 0 and List_of_numbers[position - 1] > current_element: # statement to test that we're not in pos 0 and First > Second \n",
    "            List_of_numbers[position] = List_of_numbers[position - 1] # making the switch and moving first to be replaced with second\n",
    "            position = position - 1 # Move position to one back\n",
    "            List_of_numbers[position] = current_element \n",
    "    return List_of_numbers\n",
    "\n",
    "test0 = [3, 22, 14, 434, 501, 11, 9, 1230, 304, 123, 5412, 381923, 302, -3, 1]\n",
    "test1 = [43, 12, 7, 9, 22, 1, 104]\n",
    "test2 = [100, 0, 0, -20, 30, -5]\n",
    "test3  = [28, 4, 17, 666, 1001, 52, 61, 30]\n",
    "\n",
    "print('This is unsorted', test0)\n",
    "print('This is sorted', Insertion_sort(test0))\n",
    "print()\n",
    "print('This is unsorted', test1)\n",
    "print('This is sorted', Insertion_sort(test1))\n",
    "print()\n",
    "print('This is unsorted', test2)\n",
    "print('This is sorted', Insertion_sort(test2))\n",
    "print()\n",
    "print('This is unsorted', test3)\n",
    "print('This is sorted', Insertion_sort(test3))\n",
    "\n"
   ]
  }
 ],
 "metadata": {
  "kernelspec": {
   "display_name": "Python 3",
   "language": "python",
   "name": "python3"
  },
  "language_info": {
   "codemirror_mode": {
    "name": "ipython",
    "version": 3
   },
   "file_extension": ".py",
   "mimetype": "text/x-python",
   "name": "python",
   "nbconvert_exporter": "python",
   "pygments_lexer": "ipython3",
   "version": "3.7.6"
  }
 },
 "nbformat": 4,
 "nbformat_minor": 4
}
