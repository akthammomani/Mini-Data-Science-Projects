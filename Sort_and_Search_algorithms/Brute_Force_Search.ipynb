{
 "cells": [
  {
   "cell_type": "code",
   "execution_count": 1,
   "metadata": {},
   "outputs": [
    {
     "name": "stdout",
     "output_type": "stream",
     "text": [
      "False\n",
      "True\n",
      "False\n",
      "True\n"
     ]
    }
   ],
   "source": [
    "\"\"\"\n",
    "Brute_Force_Search\n",
    "Created on Monday, July 27 2020\n",
    "Author: Aktham Momani\n",
    "Email: aktham.momani81@gmail.com\n",
    "\n",
    "When to use Brute_Force_Search function:\n",
    "1) When the problem is simple\n",
    "2) When simplicity is more important than speed.\n",
    "3) To benchmark other search engines (will be like a baseline!!!)\n",
    "\n",
    "The main Idea behind Brute_Force_Search is basically we're comparing the query_item against all items one by one in a list till we find the query_item.\n",
    "The result will be True or False\n",
    "\"\"\"\n",
    "\n",
    "def Brute_Force_Search(List_of_numbers, Query_item): # def Brute_search taking 2 arguments 1st: given list 2nd: Query_item\n",
    "    found_number = False  # let's assume at first that Found_number is not found\n",
    "    for number in List_of_numbers: # iterate over the given list so we can compare each item in given list against the query_item\n",
    "        if number == Query_item: \n",
    "            found_number = True \n",
    "            break # once query_item is found break the loop\n",
    "    return found_number\n",
    "\n",
    "test0 = [3, 22, 14, 434, 501, 11, 9, 1230, 304, 123, 5412, 381923, 302, -3, 1]\n",
    "searchItem0 = 13\n",
    "  \n",
    "test1 = [1, 7, 9, 12, 22, 43, 104]\n",
    "searchItem1 = 9\n",
    "  \n",
    "test2 = [-20, -5, 0, 0, 30, 100]\n",
    "searchItem2 = 31\n",
    "  \n",
    "test3 = [4, 17, 28, 30, 52, 61, 666, 1001]\n",
    "searchItem3 = 666\n",
    "\n",
    "print(Brute_Force_Search(test0, searchItem0))\n",
    "\n",
    "print(Brute_Force_Search(test1, searchItem1))\n",
    "\n",
    "print(Brute_Force_Search(test2, searchItem2))\n",
    "\n",
    "print(Brute_Force_Search(test3, searchItem3))\n"
   ]
  },
  {
   "cell_type": "code",
   "execution_count": null,
   "metadata": {},
   "outputs": [],
   "source": []
  }
 ],
 "metadata": {
  "kernelspec": {
   "display_name": "Python 3",
   "language": "python",
   "name": "python3"
  },
  "language_info": {
   "codemirror_mode": {
    "name": "ipython",
    "version": 3
   },
   "file_extension": ".py",
   "mimetype": "text/x-python",
   "name": "python",
   "nbconvert_exporter": "python",
   "pygments_lexer": "ipython3",
   "version": "3.7.6"
  }
 },
 "nbformat": 4,
 "nbformat_minor": 4
}
