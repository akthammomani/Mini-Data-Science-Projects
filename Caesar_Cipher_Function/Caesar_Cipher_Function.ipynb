{
 "cells": [
  {
   "cell_type": "code",
   "execution_count": 2,
   "metadata": {},
   "outputs": [
    {
     "name": "stdout",
     "output_type": "stream",
     "text": [
      "Nbdijof Mfbsojoh\n"
     ]
    }
   ],
   "source": [
    "\"\"\"\n",
    "created On Sunday, July 26, 2020\n",
    "Author: Aktham Al Momani\n",
    "Email: aktham.momani81@gmail.com\n",
    "\"\"\"\n",
    "\n",
    "\n",
    "# Caesar Cipher function\n",
    "def cipher_encrypt(message, shift):\n",
    "\n",
    "    encrypted = \"\"  # To be placed before the for loop to avoid resetting \"encrypted\" each iteration\n",
    "\n",
    "    for c in message:  # \"c\" short for Character\n",
    "\n",
    "        if c.isupper():  # Check if it's an uppercase character\n",
    "             \n",
    "            c_index = ord(c) - ord('A')  # Subtract the unicode of 'A' to get index in [0-25] range\n",
    "\n",
    "            \n",
    "            c_shifted = (c_index + shift) % 26 + ord('A')  # Shift the current character by shift positions\n",
    "\n",
    "            c_new = chr(c_shifted)\n",
    "\n",
    "            encrypted += c_new\n",
    "\n",
    "        elif c.islower():  # Check if its a lowecase character\n",
    "            \n",
    "            c_index = ord(c) - ord('a')  # Subtract the unicode of 'a' to get index in [0-25] range\n",
    "\n",
    "            c_shifted = (c_index + shift) % 26 + ord('a')\n",
    "\n",
    "            c_new = chr(c_shifted)\n",
    "\n",
    "            encrypted += c_new\n",
    "\n",
    "        elif c.isdigit():\n",
    "            \n",
    "            c_new = (int(c) + shift) % 10  # If it's a number,shift its actual value \n",
    "\n",
    "            encrypted += str(c_new)\n",
    "\n",
    "        else:\n",
    "            \n",
    "            encrypted += c  # If its neither alphabetical nor a number, just leave it like that\n",
    "\n",
    "    return encrypted\n",
    "\n",
    "message = \"Machine Learning\"\n",
    "shift = 1\n",
    "print(cipher_encrypt(message, shift))\n"
   ]
  },
  {
   "cell_type": "code",
   "execution_count": null,
   "metadata": {},
   "outputs": [],
   "source": []
  }
 ],
 "metadata": {
  "kernelspec": {
   "display_name": "Python 3",
   "language": "python",
   "name": "python3"
  },
  "language_info": {
   "codemirror_mode": {
    "name": "ipython",
    "version": 3
   },
   "file_extension": ".py",
   "mimetype": "text/x-python",
   "name": "python",
   "nbconvert_exporter": "python",
   "pygments_lexer": "ipython3",
   "version": "3.7.6"
  }
 },
 "nbformat": 4,
 "nbformat_minor": 4
}
