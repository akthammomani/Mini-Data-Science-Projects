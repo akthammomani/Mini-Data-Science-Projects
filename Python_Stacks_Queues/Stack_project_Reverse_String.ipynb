{
 "cells": [
  {
   "cell_type": "code",
   "execution_count": 1,
   "metadata": {},
   "outputs": [
    {
     "name": "stdout",
     "output_type": "stream",
     "text": [
      "gninraeL enihcaM\n"
     ]
    }
   ],
   "source": [
    "#Let's first define the stack:\n",
    "\n",
    "def push(stack, new_item):\n",
    "    stack.append(new_item)\n",
    "\n",
    "def is_empty(stack):\n",
    "    return stack == []\n",
    "\n",
    "def size(stack):\n",
    "    return len(stack)\n",
    "\n",
    "\n",
    "def reverse_string(string):\n",
    "    stack = []\n",
    "    \n",
    "    for char in string:\n",
    "        push(stack, char) #push to stack\n",
    "    \n",
    "    new_string = \"\"\n",
    "\n",
    "    while not is_empty(stack):  #Check if the stack is empty \n",
    "        new_string += stack.pop() #pop the last element\n",
    "\n",
    "    return new_string\n",
    "\n",
    "\n",
    "#Test:\n",
    "\n",
    "assert reverse_string(\"programming\") == \"gnimmargorp\"\n",
    "\n",
    "#calling the the function:\n",
    "\n",
    "string = \"Machine Learning\"\n",
    "print(reverse_string(string))\n"
   ]
  },
  {
   "cell_type": "code",
   "execution_count": 2,
   "metadata": {},
   "outputs": [
    {
     "name": "stdout",
     "output_type": "stream",
     "text": [
      "gninraeL enihcaM\n"
     ]
    }
   ],
   "source": [
    "# Just to confirm:\n",
    "print(string[::-1])"
   ]
  }
 ],
 "metadata": {
  "kernelspec": {
   "display_name": "Python 3",
   "language": "python",
   "name": "python3"
  },
  "language_info": {
   "codemirror_mode": {
    "name": "ipython",
    "version": 3
   },
   "file_extension": ".py",
   "mimetype": "text/x-python",
   "name": "python",
   "nbconvert_exporter": "python",
   "pygments_lexer": "ipython3",
   "version": "3.7.6"
  }
 },
 "nbformat": 4,
 "nbformat_minor": 4
}
