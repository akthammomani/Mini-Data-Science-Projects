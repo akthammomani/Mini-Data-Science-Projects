{
 "cells": [
  {
   "cell_type": "code",
   "execution_count": 1,
   "metadata": {},
   "outputs": [
    {
     "name": "stdout",
     "output_type": "stream",
     "text": [
      "please put test here: (()((())()))\n",
      "please put test here: (()()(()\n",
      "Balanced (()((())()))\n",
      "Unbalanced (()()(()\n"
     ]
    }
   ],
   "source": [
    "\"\"\"\n",
    "Created on Thursday July 30, 2020\n",
    "Author: Aktham Momani\n",
    "Email: aktham.momani@gmail.com\n",
    "\"\"\"\n",
    "\n",
    "def balanced_parens(line):\n",
    "    stack =[]\n",
    "    Par = ''\n",
    "    for i in line: \n",
    "        if i == '(':\n",
    "            stack.append(i)\n",
    "            Par += '('\n",
    "        elif i == ')':\n",
    "            Par += ')'\n",
    "            #print(stack)\n",
    "            if len(stack) > 0:\n",
    "                if stack[len(stack) - 1] == '(':\n",
    "                    stack.pop()\n",
    "                else:\n",
    "                    stack.append(i)\n",
    "            else:\n",
    "                stack.append(i)\n",
    "            #print(stack)\n",
    "    if len(stack) > 0:\n",
    "        return 'Unbalanced' + ' ' + Par\n",
    "    else:\n",
    "        return 'Balanced' + ' ' + Par        \n",
    "\n",
    "\n",
    "# Accept input from standard input\n",
    "line1 = input('please put test here: ')\n",
    "line2 = input('please put test here: ')\n",
    "print(balanced_parens(line1))\n",
    "print(balanced_parens(line2))"
   ]
  },
  {
   "cell_type": "code",
   "execution_count": null,
   "metadata": {},
   "outputs": [],
   "source": []
  }
 ],
 "metadata": {
  "kernelspec": {
   "display_name": "Python 3",
   "language": "python",
   "name": "python3"
  },
  "language_info": {
   "codemirror_mode": {
    "name": "ipython",
    "version": 3
   },
   "file_extension": ".py",
   "mimetype": "text/x-python",
   "name": "python",
   "nbconvert_exporter": "python",
   "pygments_lexer": "ipython3",
   "version": "3.7.6"
  }
 },
 "nbformat": 4,
 "nbformat_minor": 4
}
