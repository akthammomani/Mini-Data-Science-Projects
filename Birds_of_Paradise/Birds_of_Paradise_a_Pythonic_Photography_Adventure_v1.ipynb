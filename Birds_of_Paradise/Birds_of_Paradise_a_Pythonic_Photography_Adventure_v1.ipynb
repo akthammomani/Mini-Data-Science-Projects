{
 "cells": [
  {
   "cell_type": "code",
   "execution_count": 1,
   "metadata": {
    "colab": {
     "base_uri": "https://localhost:8080/",
     "height": 1000
    },
    "id": "WNWU7mcQgssg",
    "outputId": "ac645473-3cb8-4478-bb73-d32e25026315"
   },
   "outputs": [],
   "source": [
    "\"\"\"\n",
    "created on Mon, July 27 2020\n",
    "Author: Aktham Momani,\n",
    "Email: aktham.momani81@gmail.com\n",
    "\"\"\"\n",
    "\n",
    "# Create nested dictionary consists of 5 rare-birds with 5 attirbutes each.\n",
    "rarebirds = {\n",
    "            'Gold-crested Toucan' : {\n",
    "                'Height (m)' : 1.1, \n",
    "                'Weight (kg)' : 35,\n",
    "                'Colour' : 'Gold',\n",
    "                'Endangered' : True,\n",
    "                'Aggressive' : True},\n",
    "            'Pearlescent Kingfisher' : {\n",
    "                'Height (m)' : 0.25, \n",
    "                'Weight (kg)' : 0.5,\n",
    "                'Colour' : 'White',\n",
    "                'Endangered' : False,\n",
    "                'Aggressive' : False},           \n",
    "            'Four-metre Hummingbird' : {\n",
    "                'Height (m)' : 0.6, \n",
    "                'Weight (kg)' : 0.5,\n",
    "                'Colour' : 'Blue',\n",
    "                'Endangered' : True,\n",
    "                'Aggressive' : False},\n",
    "            'Giant Eagle' : {\n",
    "                'Height (m)' : 1.5, \n",
    "                'Weight (kg)' : 52,\n",
    "                'Colour' : 'Black and White',\n",
    "                'Endangered' : True,\n",
    "                'Aggressive' : True},\n",
    "            'Ancient Vulture' : {\n",
    "                'Height (m)' : 2.1, \n",
    "                'Weight (kg)' : 70,\n",
    "                'Colour' : 'Brown',\n",
    "                'Endangered' : False,\n",
    "                'Aggressive' : False}\n",
    "}   "
   ]
  },
  {
   "cell_type": "code",
   "execution_count": 2,
   "metadata": {},
   "outputs": [],
   "source": [
    "# Create a list of bird locations base on our position\n",
    "birdlocation = [ \"In the canopy directly above our heads\",\n",
    "                 \"Between my 6 and 9 o’clock above\", \n",
    "                 \"Between my 9 and 12 o’clock above\", \n",
    "                 \"Between my 12 and 3 o’clock above\", \n",
    "                 \"Between my 3 and 6 o’clock above\", \n",
    "                 \"In a nest on the ground\", \n",
    "                 \"Right behind you\"\n",
    "]"
   ]
  },
  {
   "cell_type": "code",
   "execution_count": 3,
   "metadata": {},
   "outputs": [],
   "source": [
    "# Create a dictionary of location codes and assign locations from the birdlocation list\n",
    "codes = {'111' : birdlocation[0], \n",
    "         '110' : birdlocation[1],\n",
    "         '101' : birdlocation[2],\n",
    "         '011' : birdlocation[3],\n",
    "         '001' : birdlocation[4],\n",
    "         '010' : birdlocation[5],\n",
    "         '100' : birdlocation[6]\n",
    "}\n"
   ]
  },
  {
   "cell_type": "code",
   "execution_count": 4,
   "metadata": {},
   "outputs": [],
   "source": [
    "# Creat a list of actions to use when sighting birds\n",
    "actions = ['Back Away',\n",
    "           'Cover our Heads', \n",
    "           'Take a Photograph'\n",
    "]"
   ]
  },
  {
   "cell_type": "code",
   "execution_count": 5,
   "metadata": {},
   "outputs": [
    {
     "name": "stdout",
     "output_type": "stream",
     "text": [
      "True or False, The Giant Eagle is aggressive? True\n"
     ]
    }
   ],
   "source": [
    "# Print whether the Giant Eagel is dangerous or not\n",
    "print(\"True or False, The Giant Eagle is aggressive?\", rarebirds['Giant Eagle']['Aggressive'])"
   ]
  },
  {
   "cell_type": "code",
   "execution_count": 7,
   "metadata": {},
   "outputs": [
    {
     "name": "stdout",
     "output_type": "stream",
     "text": [
      "Our list of Rare birds:\n",
      "Gold-crested Toucan\n",
      "Aggressive: Cover our Heads\n",
      "Endangered: Back Away\n",
      "Pearlescent Kingfisher\n",
      "Aggresive: No\n",
      "Endangered: No\n",
      "Four-metre Hummingbird\n",
      "Aggresive: No\n",
      "Endangered: Back Away\n",
      "Giant Eagle\n",
      "Aggressive: Cover our Heads\n",
      "Endangered: Back Away\n",
      "Ancient Vulture\n",
      "Aggresive: No\n",
      "Endangered: No\n"
     ]
    }
   ],
   "source": [
    "# Print the name of each bird and whether or not it is Aggresive or Endangered\n",
    "print('Our list of Rare birds:')\n",
    "\n",
    "for bird in rarebirds:\n",
    "    print(bird)\n",
    "    if rarebirds[bird]['Aggressive']:\n",
    "        print('Aggressive:', actions[1])\n",
    "    else:\n",
    "        print('Aggresive: No')\n",
    "    if rarebirds[bird]['Endangered']:\n",
    "        print('Endangered:', actions[0])\n",
    "    else:\n",
    "        print('Endangered: No')"
   ]
  },
  {
   "cell_type": "code",
   "execution_count": 8,
   "metadata": {},
   "outputs": [
    {
     "name": "stdout",
     "output_type": "stream",
     "text": [
      "Codes:\n",
      "code  111 means  In the canopy directly above our heads\n",
      "code  110 means  Between my 6 and 9 o’clock above\n",
      "code  101 means  Between my 9 and 12 o’clock above\n",
      "code  011 means  Between my 12 and 3 o’clock above\n",
      "code  001 means  Between my 3 and 6 o’clock above\n",
      "code  010 means  In a nest on the ground\n",
      "code  100 means  Right behind you\n"
     ]
    }
   ],
   "source": [
    "# Print a list of our codes to use as reference\n",
    "print('Codes:')\n",
    "for k, v in codes.items():\n",
    "    print(\"code \", k, \"means \", v)"
   ]
  },
  {
   "cell_type": "code",
   "execution_count": 9,
   "metadata": {},
   "outputs": [
    {
     "name": "stdout",
     "output_type": "stream",
     "text": [
      "{'Gold-crested Toucan': {'Height (m)': 1.1, 'Weight (kg)': 35, 'Colour': 'Gold', 'Endangered': True, 'Aggressive': True, 'seen': False}, 'Pearlescent Kingfisher': {'Height (m)': 0.25, 'Weight (kg)': 0.5, 'Colour': 'White', 'Endangered': False, 'Aggressive': False, 'seen': False}, 'Four-metre Hummingbird': {'Height (m)': 0.6, 'Weight (kg)': 0.5, 'Colour': 'Blue', 'Endangered': True, 'Aggressive': False, 'seen': False}, 'Giant Eagle': {'Height (m)': 1.5, 'Weight (kg)': 52, 'Colour': 'Black and White', 'Endangered': True, 'Aggressive': True, 'seen': False}, 'Ancient Vulture': {'Height (m)': 2.1, 'Weight (kg)': 70, 'Colour': 'Brown', 'Endangered': False, 'Aggressive': False, 'seen': False}}\n"
     ]
    }
   ],
   "source": [
    "# Update our rarebirds dictionary with key \"Seen\" set to False\n",
    "for k, v in rarebirds.items():\n",
    "    v['seen'] = False\n",
    "print(rarebirds)"
   ]
  },
  {
   "cell_type": "code",
   "execution_count": 10,
   "metadata": {},
   "outputs": [],
   "source": [
    "# Create an Encounter variable with the default value of True\n",
    "encounter = True"
   ]
  },
  {
   "cell_type": "code",
   "execution_count": 12,
   "metadata": {},
   "outputs": [
    {
     "name": "stdout",
     "output_type": "stream",
     "text": [
      "['gold-crested toucan', 'pearlescent kingfisher', 'four-metre hummingbird', 'giant eagle', 'ancient vulture']\n",
      "What do you see? ancient vulture\n",
      "this is one of the birds we’re looking for!\n",
      "\n",
      "\n",
      "Where do you see it? Input the correct code:100\n",
      "So you've seen a Ancient Vulture Right behind you My goodness.\n",
      "\n",
      "\n",
      "Take a Photograph of the Ancient Vulture at right behind you\n"
     ]
    }
   ],
   "source": [
    "# Create a list of rare birds from our dictionary to use as a reference for sighting\n",
    "rarebirdsList = []\n",
    "for bird in rarebirds.keys():\n",
    "    rarebirdsList.append(bird.lower())\n",
    "print(rarebirdsList)  \n",
    "\n",
    "while encounter:\n",
    "    # Ask the user what bird they have seen\n",
    "    sighting = input('What do you see? ').lower()\n",
    "    \n",
    "    # Compare our sighting to our rarebirds list, print confirmation message\n",
    "    if sighting in rarebirdsList:\n",
    "        print(\"this is one of the birds we’re looking for!\")\n",
    "        break\n",
    "    else:\n",
    "        print(\"that’s not one of the birds we’re looking for\")\n",
    "print()\n",
    "print()\n",
    "\n",
    "# Ask the user for the location code for the sighting of the bird\n",
    "code = input(\"Where do you see it? Input the correct code:\")\n",
    "\n",
    "location = codes[code]\n",
    "\n",
    "# Output the bird seen and it's location\n",
    "print(\"So you've seen a\",sighting.title(), location,'My goodness.')\n",
    "print()\n",
    "print()\n",
    "\n",
    "# If the bird sighted is aggresive, print a warning\n",
    "if rarebirds[sighting.title()]['Aggressive']:\n",
    "    print('The', sighting.title(), 'is aggressive.', actions[0], 'and', actions[1],'.')\n",
    "    print(actions[2], 'of the', sighting.title(), 'at', codes[code].lower())\n",
    "# If the bird is engangerd, print instructions\n",
    "elif rarebirds[sighting.title()]['Endangered']:\n",
    "    print(actions[2], 'of the', sighting.title(), 'at', codes[code].lower())\n",
    "# If the bird is neither endangered nor aggresive, print instructions    \n",
    "else:\n",
    "    print(actions[2], 'of the', sighting.title(), 'at', codes[code].lower())"
   ]
  },
  {
   "cell_type": "code",
   "execution_count": null,
   "metadata": {},
   "outputs": [],
   "source": []
  }
 ],
 "metadata": {
  "colab": {
   "collapsed_sections": [],
   "name": "Birds of Paradise: a Pythonic Photography Adventure.ipynb",
   "provenance": []
  },
  "kernelspec": {
   "display_name": "Python 3",
   "language": "python",
   "name": "python3"
  },
  "language_info": {
   "codemirror_mode": {
    "name": "ipython",
    "version": 3
   },
   "file_extension": ".py",
   "mimetype": "text/x-python",
   "name": "python",
   "nbconvert_exporter": "python",
   "pygments_lexer": "ipython3",
   "version": "3.7.6"
  }
 },
 "nbformat": 4,
 "nbformat_minor": 1
}
